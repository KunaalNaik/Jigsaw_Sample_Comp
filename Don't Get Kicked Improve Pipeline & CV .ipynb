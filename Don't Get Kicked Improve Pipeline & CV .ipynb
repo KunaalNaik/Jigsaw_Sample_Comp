{
 "cells": [
  {
   "cell_type": "markdown",
   "metadata": {},
   "source": [
    "Ref Articles \n",
    "- https://towardsdatascience.com/custom-transformers-and-ml-data-pipelines-with-python-20ea2a7adb65\n",
    "- https://machinelearningmastery.com/smote-oversampling-for-imbalanced-classification/\n",
    "- https://discuss.analyticsvidhya.com/t/what-is-the-difference-between-predict-and-predict-proba/67376\n",
    "- https://github.com/AnilBetta/AV-Janata-Hack-healh-Care-2/blob/master/av-jh-hca2-cat.ipynb\n",
    "- https://github.com/gcspkmdr/HA-Hackathon"
   ]
  },
  {
   "cell_type": "markdown",
   "metadata": {},
   "source": [
    "## Import Libraries"
   ]
  },
  {
   "cell_type": "code",
   "execution_count": 2,
   "metadata": {},
   "outputs": [],
   "source": [
    "import pandas as pd\n",
    "import numpy as np\n",
    "#from catboost import CatBoostClassifier\n",
    "#from sklearn.model_selection import StratifiedKFold,KFold,GroupKFold\n",
    "#from sklearn.metrics import accuracy_score\n",
    "\n",
    "#Pipeline\n",
    "from sklearn.pipeline import make_pipeline\n",
    "from sklearn.compose import make_column_transformer, make_column_selector\n",
    "\n",
    "#For Missing Value and Feature Engineering\n",
    "from sklearn.feature_selection import SelectKBest, chi2, VarianceThreshold\n",
    "from sklearn.impute import SimpleImputer\n",
    "from sklearn.preprocessing import KBinsDiscretizer, OneHotEncoder, MinMaxScaler\n",
    "\n",
    "from sklearn.ensemble import RandomForestClassifier, ExtraTreesClassifier\n",
    "\n",
    "import time\n"
   ]
  },
  {
   "cell_type": "markdown",
   "metadata": {},
   "source": [
    "## Import Data"
   ]
  },
  {
   "cell_type": "code",
   "execution_count": 3,
   "metadata": {},
   "outputs": [],
   "source": [
    "train = pd.read_csv(\"training.csv\")\n",
    "test = pd.read_csv(\"test.csv\")"
   ]
  },
  {
   "cell_type": "code",
   "execution_count": 4,
   "metadata": {},
   "outputs": [
    {
     "name": "stdout",
     "output_type": "stream",
     "text": [
      "<class 'pandas.core.frame.DataFrame'>\n",
      "RangeIndex: 72983 entries, 0 to 72982\n",
      "Data columns (total 34 columns):\n",
      " #   Column                             Non-Null Count  Dtype  \n",
      "---  ------                             --------------  -----  \n",
      " 0   RefId                              72983 non-null  int64  \n",
      " 1   IsBadBuy                           72983 non-null  int64  \n",
      " 2   PurchDate                          72983 non-null  object \n",
      " 3   Auction                            72983 non-null  object \n",
      " 4   VehYear                            72983 non-null  int64  \n",
      " 5   VehicleAge                         72983 non-null  int64  \n",
      " 6   Make                               72983 non-null  object \n",
      " 7   Model                              72983 non-null  object \n",
      " 8   Trim                               70623 non-null  object \n",
      " 9   SubModel                           72975 non-null  object \n",
      " 10  Color                              72975 non-null  object \n",
      " 11  Transmission                       72974 non-null  object \n",
      " 12  WheelTypeID                        69814 non-null  float64\n",
      " 13  WheelType                          69809 non-null  object \n",
      " 14  VehOdo                             72983 non-null  int64  \n",
      " 15  Nationality                        72978 non-null  object \n",
      " 16  Size                               72978 non-null  object \n",
      " 17  TopThreeAmericanName               72978 non-null  object \n",
      " 18  MMRAcquisitionAuctionAveragePrice  72965 non-null  float64\n",
      " 19  MMRAcquisitionAuctionCleanPrice    72965 non-null  float64\n",
      " 20  MMRAcquisitionRetailAveragePrice   72965 non-null  float64\n",
      " 21  MMRAcquisitonRetailCleanPrice      72965 non-null  float64\n",
      " 22  MMRCurrentAuctionAveragePrice      72668 non-null  float64\n",
      " 23  MMRCurrentAuctionCleanPrice        72668 non-null  float64\n",
      " 24  MMRCurrentRetailAveragePrice       72668 non-null  float64\n",
      " 25  MMRCurrentRetailCleanPrice         72668 non-null  float64\n",
      " 26  PRIMEUNIT                          3419 non-null   object \n",
      " 27  AUCGUART                           3419 non-null   object \n",
      " 28  BYRNO                              72983 non-null  int64  \n",
      " 29  VNZIP1                             72983 non-null  int64  \n",
      " 30  VNST                               72983 non-null  object \n",
      " 31  VehBCost                           72983 non-null  float64\n",
      " 32  IsOnlineSale                       72983 non-null  int64  \n",
      " 33  WarrantyCost                       72983 non-null  int64  \n",
      "dtypes: float64(10), int64(9), object(15)\n",
      "memory usage: 18.9+ MB\n"
     ]
    }
   ],
   "source": [
    "train.info()"
   ]
  },
  {
   "cell_type": "markdown",
   "metadata": {},
   "source": [
    "## SMOTE"
   ]
  },
  {
   "cell_type": "code",
   "execution_count": 5,
   "metadata": {},
   "outputs": [],
   "source": [
    "#insert code"
   ]
  },
  {
   "cell_type": "markdown",
   "metadata": {},
   "source": [
    "## Feat Engineering"
   ]
  },
  {
   "cell_type": "code",
   "execution_count": 6,
   "metadata": {},
   "outputs": [],
   "source": [
    "# Date\n",
    "#PurchDate"
   ]
  },
  {
   "cell_type": "code",
   "execution_count": 7,
   "metadata": {},
   "outputs": [],
   "source": [
    "train['mean_MMRAcquisitionAuctionAveragePrice_Make']=train.groupby(['Make'])['MMRAcquisitionAuctionAveragePrice'].transform('mean')\n",
    "train['mean_MMRAcquisitionAuctionAveragePrice_Model']=train.groupby(['Model'])['MMRAcquisitionAuctionAveragePrice'].transform('mean')\n",
    "train['mean_MMRAcquisitionAuctionAveragePrice_Trim']=train.groupby(['Trim'])['MMRAcquisitionAuctionAveragePrice'].transform('mean')\n",
    "train['mean_MMRAcquisitionAuctionAveragePrice_SubModel']=train.groupby(['SubModel'])['MMRAcquisitionAuctionAveragePrice'].transform('mean')\n",
    "train['mean_MMRAcquisitionAuctionAveragePrice_Color']=train.groupby(['Color'])['MMRAcquisitionAuctionAveragePrice'].transform('mean')\n",
    "train['mean_MMRAcquisitionAuctionAveragePrice_Transmission']=train.groupby(['Transmission'])['MMRAcquisitionAuctionAveragePrice'].transform('mean')\n",
    "\n",
    "train['mean_MMRAcquisitionAuctionCleanPrice_Make']=train.groupby(['Make'])['MMRAcquisitionAuctionCleanPrice'].transform('mean')\n",
    "train['mean_MMRAcquisitionAuctionCleanPrice_Model']=train.groupby(['Model'])['MMRAcquisitionAuctionCleanPrice'].transform('mean')\n",
    "train['mean_MMRAcquisitionAuctionCleanPrice_Trim']=train.groupby(['Trim'])['MMRAcquisitionAuctionCleanPrice'].transform('mean')\n",
    "train['mean_MMRAcquisitionAuctionCleanPrice_SubModel']=train.groupby(['SubModel'])['MMRAcquisitionAuctionCleanPrice'].transform('mean')\n",
    "train['mean_MMRAcquisitionAuctionCleanPrice_Color']=train.groupby(['Color'])['MMRAcquisitionAuctionCleanPrice'].transform('mean')\n",
    "train['mean_MMRAcquisitionAuctionCleanPrice_Transmission']=train.groupby(['Transmission'])['MMRAcquisitionAuctionCleanPrice'].transform('mean')"
   ]
  },
  {
   "cell_type": "code",
   "execution_count": 8,
   "metadata": {},
   "outputs": [],
   "source": [
    "test['mean_MMRAcquisitionAuctionAveragePrice_Make']=test.groupby(['Make'])['MMRAcquisitionAuctionAveragePrice'].transform('mean')\n",
    "test['mean_MMRAcquisitionAuctionAveragePrice_Model']=test.groupby(['Model'])['MMRAcquisitionAuctionAveragePrice'].transform('mean')\n",
    "test['mean_MMRAcquisitionAuctionAveragePrice_Trim']=test.groupby(['Trim'])['MMRAcquisitionAuctionAveragePrice'].transform('mean')\n",
    "test['mean_MMRAcquisitionAuctionAveragePrice_SubModel']=test.groupby(['SubModel'])['MMRAcquisitionAuctionAveragePrice'].transform('mean')\n",
    "test['mean_MMRAcquisitionAuctionAveragePrice_Color']=test.groupby(['Color'])['MMRAcquisitionAuctionAveragePrice'].transform('mean')\n",
    "test['mean_MMRAcquisitionAuctionAveragePrice_Transmission']=test.groupby(['Transmission'])['MMRAcquisitionAuctionAveragePrice'].transform('mean')\n",
    "\n",
    "test['mean_MMRAcquisitionAuctionCleanPrice_Make']=test.groupby(['Make'])['MMRAcquisitionAuctionCleanPrice'].transform('mean')\n",
    "test['mean_MMRAcquisitionAuctionCleanPrice_Model']=test.groupby(['Model'])['MMRAcquisitionAuctionCleanPrice'].transform('mean')\n",
    "test['mean_MMRAcquisitionAuctionCleanPrice_Trim']=test.groupby(['Trim'])['MMRAcquisitionAuctionCleanPrice'].transform('mean')\n",
    "test['mean_MMRAcquisitionAuctionCleanPrice_SubModel']=test.groupby(['SubModel'])['MMRAcquisitionAuctionCleanPrice'].transform('mean')\n",
    "test['mean_MMRAcquisitionAuctionCleanPrice_Color']=test.groupby(['Color'])['MMRAcquisitionAuctionCleanPrice'].transform('mean')\n",
    "test['mean_MMRAcquisitionAuctionCleanPrice_Transmission']=test.groupby(['Transmission'])['MMRAcquisitionAuctionCleanPrice'].transform('mean')"
   ]
  },
  {
   "cell_type": "markdown",
   "metadata": {},
   "source": [
    "## Divide Dataset into X and Y"
   ]
  },
  {
   "cell_type": "code",
   "execution_count": 14,
   "metadata": {},
   "outputs": [],
   "source": [
    "#create X and y datasets for splitting \n",
    "X = train.drop(['RefId', 'IsBadBuy'], axis=1)\n",
    "y = train['IsBadBuy']"
   ]
  },
  {
   "cell_type": "code",
   "execution_count": 16,
   "metadata": {},
   "outputs": [],
   "source": [
    "all_features = X.columns"
   ]
  },
  {
   "cell_type": "code",
   "execution_count": 17,
   "metadata": {},
   "outputs": [],
   "source": [
    "all_features = all_features.tolist()"
   ]
  },
  {
   "cell_type": "code",
   "execution_count": 18,
   "metadata": {},
   "outputs": [],
   "source": [
    "#import train_test_split library\n",
    "from sklearn.model_selection import train_test_split\n",
    "\n",
    "# create train test split\n",
    "X_train, X_test, y_train, y_test = train_test_split( X,  y, test_size=0.3, random_state=0)  "
   ]
  },
  {
   "cell_type": "markdown",
   "metadata": {},
   "source": [
    "## Setup Pipeline "
   ]
  },
  {
   "cell_type": "code",
   "execution_count": 19,
   "metadata": {},
   "outputs": [],
   "source": [
    "preprocessor = make_column_transformer(\n",
    "    \n",
    "    (make_pipeline(\n",
    "    SimpleImputer(strategy = 'median'),\n",
    "    MinMaxScaler()), make_column_selector(dtype_include=np.number)),\n",
    "    \n",
    "    (make_pipeline(\n",
    "    SimpleImputer(strategy = 'constant', fill_value = 'missing'),\n",
    "    OneHotEncoder(categories = 'auto', handle_unknown = 'ignore')), make_column_selector(dtype_include=object)),\n",
    "    \n",
    ")"
   ]
  },
  {
   "cell_type": "code",
   "execution_count": 21,
   "metadata": {},
   "outputs": [],
   "source": [
    "preprocessor_best = make_pipeline(preprocessor, \n",
    "                                  #SelectKBest(chi2, k = 50)\n",
    "                                 VarianceThreshold())"
   ]
  },
  {
   "cell_type": "code",
   "execution_count": 22,
   "metadata": {},
   "outputs": [],
   "source": [
    "RF_Model = make_pipeline(preprocessor_best, RandomForestClassifier(n_estimators = 100))"
   ]
  },
  {
   "cell_type": "markdown",
   "metadata": {},
   "source": [
    "## Grid Search"
   ]
  },
  {
   "cell_type": "code",
   "execution_count": 23,
   "metadata": {},
   "outputs": [],
   "source": [
    "# Number of trees in random forest\n",
    "n_estimators = [int(x) for x in np.linspace(start = 100, stop = 1000, num = 50)]\n",
    "# Number of features to consider at every split\n",
    "max_features = ['auto', 'sqrt']\n",
    "# Maximum number of levels in tree\n",
    "max_depth = [2,4,6,8]\n",
    "# Minimum number of samples required to split a node\n",
    "min_samples_split = [2, 5, 8]\n",
    "# Minimum number of samples required at each leaf node\n",
    "min_samples_leaf = [1, 2, 3]\n",
    "# Method of selecting samples for training each tree\n",
    "bootstrap = [True, False]"
   ]
  },
  {
   "cell_type": "code",
   "execution_count": 24,
   "metadata": {},
   "outputs": [
    {
     "name": "stdout",
     "output_type": "stream",
     "text": [
      "{'randomforestclassifier__n_estimators': [100, 118, 136, 155, 173, 191, 210, 228, 246, 265, 283, 302, 320, 338, 357, 375, 393, 412, 430, 448, 467, 485, 504, 522, 540, 559, 577, 595, 614, 632, 651, 669, 687, 706, 724, 742, 761, 779, 797, 816, 834, 853, 871, 889, 908, 926, 944, 963, 981, 1000], 'randomforestclassifier__max_features': ['auto', 'sqrt'], 'randomforestclassifier__max_depth': [2, 4, 6, 8], 'randomforestclassifier__min_samples_split': [2, 5, 8], 'randomforestclassifier__min_samples_leaf': [1, 2, 3], 'randomforestclassifier__bootstrap': [True, False]}\n"
     ]
    }
   ],
   "source": [
    "# Create the param grid\n",
    "param_grid = {'randomforestclassifier__n_estimators': n_estimators,\n",
    "               'randomforestclassifier__max_features': max_features,\n",
    "               'randomforestclassifier__max_depth': max_depth,\n",
    "               'randomforestclassifier__min_samples_split': min_samples_split,\n",
    "               'randomforestclassifier__min_samples_leaf': min_samples_leaf,\n",
    "               'randomforestclassifier__bootstrap': bootstrap\n",
    "             }\n",
    "print(param_grid)"
   ]
  },
  {
   "cell_type": "code",
   "execution_count": 25,
   "metadata": {},
   "outputs": [],
   "source": [
    "from sklearn.model_selection import RandomizedSearchCV\n",
    "rf_RandomGrid = RandomizedSearchCV(estimator = RF_Model, param_distributions = param_grid, cv = 10, verbose=1, n_jobs = -1)"
   ]
  },
  {
   "cell_type": "code",
   "execution_count": 26,
   "metadata": {},
   "outputs": [
    {
     "name": "stdout",
     "output_type": "stream",
     "text": [
      "Fitting 10 folds for each of 10 candidates, totalling 100 fits\n"
     ]
    },
    {
     "name": "stderr",
     "output_type": "stream",
     "text": [
      "[Parallel(n_jobs=-1)]: Using backend LokyBackend with 8 concurrent workers.\n",
      "[Parallel(n_jobs=-1)]: Done  34 tasks      | elapsed:  2.6min\n",
      "[Parallel(n_jobs=-1)]: Done 100 out of 100 | elapsed:  7.4min finished\n"
     ]
    },
    {
     "data": {
      "text/plain": [
       "RandomizedSearchCV(cv=10,\n",
       "                   estimator=Pipeline(steps=[('pipeline',\n",
       "                                              Pipeline(steps=[('columntransformer',\n",
       "                                                               ColumnTransformer(transformers=[('pipeline-1',\n",
       "                                                                                                Pipeline(steps=[('simpleimputer',\n",
       "                                                                                                                 SimpleImputer(strategy='median')),\n",
       "                                                                                                                ('minmaxscaler',\n",
       "                                                                                                                 MinMaxScaler())]),\n",
       "                                                                                                <sklearn.compose._column_transformer.make_column_selector object at 0x0000018853FED3C8>),\n",
       "                                                                                               ('pipeline-2',\n",
       "                                                                                                Pip...\n",
       "                                        'randomforestclassifier__max_depth': [2,\n",
       "                                                                              4,\n",
       "                                                                              6,\n",
       "                                                                              8],\n",
       "                                        'randomforestclassifier__max_features': ['auto',\n",
       "                                                                                 'sqrt'],\n",
       "                                        'randomforestclassifier__min_samples_leaf': [1,\n",
       "                                                                                     2,\n",
       "                                                                                     3],\n",
       "                                        'randomforestclassifier__min_samples_split': [2,\n",
       "                                                                                      5,\n",
       "                                                                                      8],\n",
       "                                        'randomforestclassifier__n_estimators': [100,\n",
       "                                                                                 118,\n",
       "                                                                                 136,\n",
       "                                                                                 155,\n",
       "                                                                                 173,\n",
       "                                                                                 191,\n",
       "                                                                                 210,\n",
       "                                                                                 228,\n",
       "                                                                                 246,\n",
       "                                                                                 265,\n",
       "                                                                                 283,\n",
       "                                                                                 302,\n",
       "                                                                                 320,\n",
       "                                                                                 338,\n",
       "                                                                                 357,\n",
       "                                                                                 375,\n",
       "                                                                                 393,\n",
       "                                                                                 412,\n",
       "                                                                                 430,\n",
       "                                                                                 448,\n",
       "                                                                                 467,\n",
       "                                                                                 485,\n",
       "                                                                                 504,\n",
       "                                                                                 522,\n",
       "                                                                                 540,\n",
       "                                                                                 559,\n",
       "                                                                                 577,\n",
       "                                                                                 595,\n",
       "                                                                                 614,\n",
       "                                                                                 632, ...]},\n",
       "                   verbose=1)"
      ]
     },
     "execution_count": 26,
     "metadata": {},
     "output_type": "execute_result"
    }
   ],
   "source": [
    "rf_RandomGrid.fit(X_train, y_train)"
   ]
  },
  {
   "cell_type": "markdown",
   "metadata": {},
   "source": [
    "## Accuracy"
   ]
  },
  {
   "cell_type": "code",
   "execution_count": 27,
   "metadata": {},
   "outputs": [
    {
     "name": "stdout",
     "output_type": "stream",
     "text": [
      "Train : 0.897\n",
      "Test : 0.899\n"
     ]
    }
   ],
   "source": [
    "print(f'Train : {rf_RandomGrid.score(X_train, y_train):.3f}')\n",
    "print(f'Test : {rf_RandomGrid.score(X_test, y_test):.3f}')"
   ]
  },
  {
   "cell_type": "markdown",
   "metadata": {},
   "source": [
    "## Gini Index"
   ]
  },
  {
   "cell_type": "code",
   "execution_count": 28,
   "metadata": {},
   "outputs": [],
   "source": [
    "def gini(actual, pred):\n",
    "    assert (len(actual) == len(pred))\n",
    "    all = np.asarray(np.c_[actual, pred, np.arange(len(actual))], dtype=np.float)\n",
    "    all = all[np.lexsort((all[:, 2], -1 * all[:, 1]))]\n",
    "    totalLosses = all[:, 0].sum()\n",
    "    giniSum = all[:, 0].cumsum().sum() / totalLosses\n",
    "\n",
    "    giniSum -= (len(actual) + 1) / 2.\n",
    "    return giniSum / len(actual)\n",
    "\n",
    "\n",
    "def gini_normalized(actual, pred):\n",
    "    return gini(actual, pred) / gini(actual, actual)"
   ]
  },
  {
   "cell_type": "code",
   "execution_count": 29,
   "metadata": {},
   "outputs": [],
   "source": [
    "actual_train = y_train\n",
    "pred_train = rf_RandomGrid.predict(X_train)\n",
    "actual_test = y_test\n",
    "pred_test = rf_RandomGrid.predict(X_test)"
   ]
  },
  {
   "cell_type": "code",
   "execution_count": 30,
   "metadata": {},
   "outputs": [
    {
     "name": "stdout",
     "output_type": "stream",
     "text": [
      "Gini Train : 0.098\n",
      "Gini Test : 0.105\n"
     ]
    }
   ],
   "source": [
    "print(f'Gini Train : {gini(actual_train,pred_train):.3f}')\n",
    "print(f'Gini Test : {gini(actual_test,pred_test):.3f}')"
   ]
  },
  {
   "cell_type": "markdown",
   "metadata": {},
   "source": [
    "## Submission "
   ]
  },
  {
   "cell_type": "code",
   "execution_count": 31,
   "metadata": {},
   "outputs": [],
   "source": [
    "test_pred = rf_RandomGrid.predict_proba(test[X.columns])[:,1]"
   ]
  },
  {
   "cell_type": "code",
   "execution_count": 32,
   "metadata": {},
   "outputs": [],
   "source": [
    "AllSub = pd.DataFrame({ 'RefId': test['RefId'],\n",
    "                       'IsBadBuy' : test_pred\n",
    "    \n",
    "})"
   ]
  },
  {
   "cell_type": "code",
   "execution_count": 33,
   "metadata": {},
   "outputs": [],
   "source": [
    "AllSub['IsBadBuy'] = AllSub['IsBadBuy'].apply(lambda x: 1 if x > 0.09 else 0)"
   ]
  },
  {
   "cell_type": "code",
   "execution_count": 34,
   "metadata": {},
   "outputs": [],
   "source": [
    "AllSub.to_csv('PyCaret_RF_Pipe_Better_Pipe_more.csv', index = False)"
   ]
  },
  {
   "cell_type": "code",
   "execution_count": null,
   "metadata": {},
   "outputs": [],
   "source": [
    "# 0.12957 "
   ]
  }
 ],
 "metadata": {
  "kernelspec": {
   "display_name": "Python 3",
   "language": "python",
   "name": "python3"
  },
  "language_info": {
   "codemirror_mode": {
    "name": "ipython",
    "version": 3
   },
   "file_extension": ".py",
   "mimetype": "text/x-python",
   "name": "python",
   "nbconvert_exporter": "python",
   "pygments_lexer": "ipython3",
   "version": "3.7.6"
  }
 },
 "nbformat": 4,
 "nbformat_minor": 4
}
